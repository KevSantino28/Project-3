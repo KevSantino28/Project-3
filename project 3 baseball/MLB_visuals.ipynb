{
 "cells": [
  {
   "cell_type": "code",
   "execution_count": 7,
   "metadata": {},
   "outputs": [
    {
     "data": {
      "application/vnd.jupyter.widget-view+json": {
       "model_id": "29e2ef3ff8674d0ea7f0ab78fdee7fbf",
       "version_major": 2,
       "version_minor": 0
      },
      "text/plain": [
       "interactive(children=(Dropdown(description='Team:', options=('ARI', 'ATL', 'BAL', 'BOS', 'CHC', 'CHW', 'CIN', …"
      ]
     },
     "metadata": {},
     "output_type": "display_data"
    }
   ],
   "source": [
    "import pandas as pd\n",
    "import numpy as np\n",
    "import matplotlib.pyplot as plt\n",
    "import scipy.stats as st\n",
    "from ipywidgets import interact, widgets\n",
    "\n",
    "# Load the CSV file\n",
    "data = pd.read_csv(\"sportsref_download.csv\")\n",
    "\n",
    "# Extracting the year and team data\n",
    "years = data[\"Year\"].values\n",
    "teams = data.columns[2:]  # Extracting team abbreviations from column C onwards\n",
    "\n",
    "# Define a function to plot wins data for a selected team\n",
    "def plot_team_wins(team):\n",
    "    plt.figure(figsize=(10, 6))\n",
    "\n",
    "    # Extract wins data for the selected team\n",
    "    team_wins = data[team].values\n",
    "\n",
    "    # Filter out NaN and Inf values from the wins data\n",
    "    valid_indices = np.isfinite(team_wins)\n",
    "    team_wins = team_wins[valid_indices]\n",
    "    years_valid = years[valid_indices]\n",
    "\n",
    "    # Plotting the scatter plot for the selected team\n",
    "    plt.scatter(years_valid, team_wins, label=f'{team} Wins')\n",
    "\n",
    "    # Perform linear regression for the selected team\n",
    "    slope, intercept, _, _, _ = st.linregress(years_valid, team_wins)\n",
    "\n",
    "    # Plotting the linear regression line for the selected team\n",
    "    regression_line_x = [min(years_valid), max(years_valid)]\n",
    "    regression_line_y = [slope * year + intercept for year in regression_line_x]\n",
    "    plt.plot(regression_line_x, regression_line_y, color='red', label='Linear Regression')\n",
    "\n",
    "    # Adding labels and title\n",
    "    plt.xlabel('Year')\n",
    "    plt.ylabel('Wins')\n",
    "    plt.title(f'{team} Wins Over the Years')\n",
    "\n",
    "    # Adding legend\n",
    "    plt.legend()\n",
    "\n",
    "    # Showing plot\n",
    "    plt.grid(True)\n",
    "    plt.show()\n",
    "\n",
    "# Create a dropdown menu to select a team\n",
    "team_dropdown = widgets.Dropdown(\n",
    "    options=teams,\n",
    "    description='Team:',\n",
    "    disabled=False,\n",
    ")\n",
    "\n",
    "# Call the plot_team_wins function when a team is selected from the dropdown menu\n",
    "interact(plot_team_wins, team=team_dropdown);\n"
   ]
  }
 ],
 "metadata": {
  "kernelspec": {
   "display_name": "dev",
   "language": "python",
   "name": "python3"
  },
  "language_info": {
   "codemirror_mode": {
    "name": "ipython",
    "version": 3
   },
   "file_extension": ".py",
   "mimetype": "text/x-python",
   "name": "python",
   "nbconvert_exporter": "python",
   "pygments_lexer": "ipython3",
   "version": "3.10.13"
  }
 },
 "nbformat": 4,
 "nbformat_minor": 2
}
